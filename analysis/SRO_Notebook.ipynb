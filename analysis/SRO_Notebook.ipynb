{
 "cells": [
  {
   "cell_type": "code",
   "execution_count": null,
   "metadata": {},
   "outputs": [],
   "source": [
    "import sys\n",
    "import pandas as pd\n",
    "import numpy as np\n",
    "import matplotlib.pyplot as plt\n",
    "from pandas.plotting import register_matplotlib_converters\n",
    "register_matplotlib_converters()\n",
    "from IPython.display import HTML\n",
    "from IPython.display import Markdown as md\n",
    "from IPython.core.display import HTML as Center\n",
    "from utilities import *\n",
    "from config import marker, start_date, end_date, demographics, codelist_code_column, codelist_term_column\n",
    "\n",
    "\n",
    "%matplotlib inline\n",
    "\n",
    "\n",
    "Center('''<style>\n",
    ".output_png {\n",
    "    display: table-cell;\n",
    "    text-align: center;\n",
    "    vertical-align: middle;\n",
    "}\n",
    "</style>''')\n",
    "\n",
    "class Measure:\n",
    "  def __init__(self, id, numerator, denominator, group_by):\n",
    "    self.id = id\n",
    "    self.numerator = numerator\n",
    "    self.denominator = denominator\n",
    "    self.group_by = group_by\n",
    "    \n",
    "measures = [\n",
    "\n",
    "    Measure(\n",
    "        id=\"total\",\n",
    "        numerator=\"event\",\n",
    "        denominator=\"population\",\n",
    "        group_by=[\"age_band\"]\n",
    "    ),\n",
    "\n",
    "    Measure(\n",
    "        id=\"event_code\",\n",
    "        numerator=\"event\",\n",
    "        denominator=\"population\",\n",
    "        group_by=[\"age_band\",\"event_code\"]\n",
    "    ),\n",
    "\n",
    "    Measure(\n",
    "        id=\"practice\",\n",
    "        numerator=\"event\",\n",
    "        denominator=\"population\",\n",
    "        group_by=[\"age_band\",\"practice\"]\n",
    "    ),\n",
    "\n",
    "\n",
    "]\n",
    "\n",
    "for d in demographics:\n",
    "    if d=='age_band':\n",
    "        m = Measure(\n",
    "        id=d,\n",
    "        numerator=\"event\",\n",
    "        denominator=\"population\",\n",
    "        group_by=[\"age_band\"]\n",
    "        )\n",
    "    else:\n",
    "        m = Measure(\n",
    "            id=d,\n",
    "            numerator=\"event\",\n",
    "            denominator=\"population\",\n",
    "            group_by=[\"age_band\", d]\n",
    "        )\n",
    "    measures.append(m)\n",
    "\n",
    "default_measures = ['total', 'event_code', 'practice']\n",
    "measures_ids = default_measures+ demographics\n",
    "measures_dict = {}\n",
    "\n",
    "for m in measures:\n",
    "    measures_dict[m.id] = m\n",
    "\n",
    "\n",
    "\n"
   ]
  },
  {
   "cell_type": "code",
   "execution_count": null,
   "metadata": {},
   "outputs": [],
   "source": [
    "display(\n",
    "md(\"# Service Restoration Observatory\"),\n",
    "md(f\"## Changes in {marker} between {start_date} and {end_date}\"),\n",
    "md(f\"Below are various time-series graphs showing changes in {marker} code use.\"),\n",
    ")\n"
   ]
  },
  {
   "cell_type": "code",
   "execution_count": null,
   "metadata": {},
   "outputs": [],
   "source": [
    "display(\n",
    "md(\"### Methods\"),\n",
    "md(f\"Using OpenSAFELY-TPP, covering 40% of England's population, we have assessed coding activity related to {marker} between {start_date} and {end_date}. The codelist used can be found here at [OpenSAFELY Codelists](https://codelists.opensafely.org/).  For each month within the study period, we have calculated the rate at which the code was recorded per 1000 registered patients.\"),\n",
    "md(f\"All analytical code and output is available for inspection at the [OpenSAFELY GitHub repository](https://github.com/opensafely\")\n",
    ")\n"
   ]
  },
  {
   "cell_type": "code",
   "execution_count": null,
   "metadata": {},
   "outputs": [],
   "source": [
    "default_measures = ['total', 'event_code', 'practice']\n",
    "measures = default_measures+ demographics\n",
    "\n",
    "data_dict = {}\n",
    "\n",
    "for key, value in measures_dict.items():\n",
    "    \n",
    "    df = pd.read_csv(f'../output/measure_{value.id}.csv')\n",
    "    if key == \"event_code\":\n",
    "        df.round(16)\n",
    "    \n",
    "    to_datetime_sort(df)\n",
    "    \n",
    "    if value.id=='age_band':\n",
    "        data_dict[value.id] = calculate_rate(df, m=value, rate_per=1000, return_age=True)\n",
    "\n",
    "    else:\n",
    "        data_dict[value.id] = calculate_rate(df, m=value, rate_per=1000)\n",
    "\n",
    "\n",
    "\n",
    "\n",
    "codelist = pd.read_csv('../codelists/opensafely-structured-medication-review-nhs-england.csv')\n",
    "codelist = codelist.round(16)\n"
   ]
  },
  {
   "cell_type": "code",
   "execution_count": null,
   "metadata": {},
   "outputs": [],
   "source": [
    "display(\n",
    "md(f\"## Total {marker} Number\")\n",
    ")\n"
   ]
  },
  {
   "cell_type": "code",
   "execution_count": null,
   "metadata": {},
   "outputs": [],
   "source": [
    "plot_measures(data_dict['total'], title=f\"Total {marker} across whole population\", column_to_plot='rate', category=False, y_label='Rate per 1000')\n"
   ]
  },
  {
   "cell_type": "code",
   "execution_count": null,
   "metadata": {},
   "outputs": [],
   "source": [
    "display(\n",
    "md(\"### Sub totals by sub codes\"),\n",
    "md(\"Events for the top 5 subcodes across the study period\"))\n",
    "child_table = create_child_table(df=data_dict['event_code'], code_df=codelist, code_column=codelist_code_column, term_column=codelist_term_column)\n",
    "child_table\n",
    "    "
   ]
  },
  {
   "cell_type": "code",
   "execution_count": null,
   "metadata": {},
   "outputs": [],
   "source": [
    "display(\n",
    "md(\"## Total Number by GP Practice\")\n",
    ")\n"
   ]
  },
  {
   "cell_type": "code",
   "execution_count": null,
   "metadata": {},
   "outputs": [],
   "source": [
    "practice_df = pd.read_csv('../output/input_practice_count.csv')\n",
    "practices_dict =calculate_statistics_practices(data_dict['practice'], practice_df,end_date)\n",
    "print(f'Practices included entire period: {practices_dict[\"total\"][\"number\"]} ({practices_dict[\"total\"][\"percent\"]}%)')\n",
    "print(f'Practices included within last year: {practices_dict[\"year\"][\"number\"]} ({practices_dict[\"year\"][\"percent\"]}%)')\n",
    "print(f'Practices included within last 3 months: {practices_dict[\"months_3\"][\"number\"]} ({practices_dict[\"months_3\"][\"percent\"]}%)')\n",
    "interactive_deciles_chart(data_dict['practice'], period_column='date', column='event', title='Decile chart',ylabel='rate per 1000')\n"
   ]
  },
  {
   "cell_type": "code",
   "execution_count": null,
   "metadata": {},
   "outputs": [],
   "source": [
    "i=0\n"
   ]
  },
  {
   "cell_type": "code",
   "execution_count": null,
   "metadata": {},
   "outputs": [],
   "source": [
    "    display(\n",
    "    md(f\"## Breakdown by {demographics[i]}\")\n",
    "    )\n",
    "    counts_df = calculate_statistics_demographics(df=data_dict[demographics[i]], demographic_var=demographics[i], end_date=end_date, event_column='event')\n",
    "    counts_df\n",
    "    "
   ]
  },
  {
   "cell_type": "code",
   "execution_count": null,
   "metadata": {},
   "outputs": [],
   "source": [
    "    plot_measures(data_dict[demographics[i]], title=f'Breakdown by {demographics[i]}', column_to_plot='rate_standardised', category=demographics[i], y_label='Standardised Rate per 1000')\n",
    "    i+=1\n",
    "    "
   ]
  },
  {
   "cell_type": "code",
   "execution_count": null,
   "metadata": {},
   "outputs": [],
   "source": [
    "    display(\n",
    "    md(f\"## Breakdown by {demographics[i]}\")\n",
    "    )\n",
    "    counts_df = calculate_statistics_demographics(df=data_dict[demographics[i]], demographic_var=demographics[i], end_date=end_date, event_column='event')\n",
    "    counts_df\n",
    "    "
   ]
  },
  {
   "cell_type": "code",
   "execution_count": null,
   "metadata": {},
   "outputs": [],
   "source": [
    "    plot_measures(data_dict[demographics[i]], title=f'Breakdown by {demographics[i]}', column_to_plot='rate_standardised', category=demographics[i], y_label='Standardised Rate per 1000')\n",
    "    i+=1\n",
    "    "
   ]
  },
  {
   "cell_type": "code",
   "execution_count": null,
   "metadata": {},
   "outputs": [],
   "source": [
    "    display(\n",
    "    md(f\"## Breakdown by {demographics[i]}\")\n",
    "    )\n",
    "    counts_df = calculate_statistics_demographics(df=data_dict[demographics[i]], demographic_var=demographics[i], end_date=end_date, event_column='event')\n",
    "    counts_df\n",
    "    "
   ]
  },
  {
   "cell_type": "code",
   "execution_count": null,
   "metadata": {},
   "outputs": [],
   "source": [
    "    plot_measures(data_dict[demographics[i]], title=f'Breakdown by {demographics[i]}', column_to_plot='rate_standardised', category=demographics[i], y_label='Standardised Rate per 1000')\n",
    "    i+=1\n",
    "    "
   ]
  },
  {
   "cell_type": "code",
   "execution_count": null,
   "metadata": {},
   "outputs": [],
   "source": []
  },
  {
   "cell_type": "code",
   "execution_count": 25,
   "metadata": {},
   "outputs": [
    {
     "data": {
      "text/html": [
       "<div>\n",
       "<style scoped>\n",
       "    .dataframe tbody tr th:only-of-type {\n",
       "        vertical-align: middle;\n",
       "    }\n",
       "\n",
       "    .dataframe tbody tr th {\n",
       "        vertical-align: top;\n",
       "    }\n",
       "\n",
       "    .dataframe thead th {\n",
       "        text-align: right;\n",
       "    }\n",
       "</style>\n",
       "<table border=\"1\" class=\"dataframe\">\n",
       "  <thead>\n",
       "    <tr style=\"text-align: right;\">\n",
       "      <th></th>\n",
       "      <th>ethnicity</th>\n",
       "      <th>count</th>\n",
       "    </tr>\n",
       "  </thead>\n",
       "  <tbody>\n",
       "    <tr>\n",
       "      <th>0</th>\n",
       "      <td>1</td>\n",
       "      <td>20</td>\n",
       "    </tr>\n",
       "    <tr>\n",
       "      <th>1</th>\n",
       "      <td>2</td>\n",
       "      <td>3</td>\n",
       "    </tr>\n",
       "    <tr>\n",
       "      <th>2</th>\n",
       "      <td>3</td>\n",
       "      <td>1</td>\n",
       "    </tr>\n",
       "    <tr>\n",
       "      <th>3</th>\n",
       "      <td>4</td>\n",
       "      <td>15</td>\n",
       "    </tr>\n",
       "  </tbody>\n",
       "</table>\n",
       "</div>"
      ],
      "text/plain": [
       "   ethnicity  count\n",
       "0          1     20\n",
       "1          2      3\n",
       "2          3      1\n",
       "3          4     15"
      ]
     },
     "execution_count": 25,
     "metadata": {},
     "output_type": "execute_result"
    }
   ],
   "source": [
    "import pandas as pd\n",
    "\n",
    "data = [[1, 20], [2, 3], [3, 1], [4, 15]]\n",
    "df = pd.DataFrame(data, columns=['ethnicity', 'count'])\n",
    "df"
   ]
  },
  {
   "cell_type": "code",
   "execution_count": 28,
   "metadata": {},
   "outputs": [],
   "source": [
    "def redact_small_numbers(df, n, counts_columns):\n",
    "    \"\"\"\n",
    "    Takes counts df as input and suppresses low numbers.  Sequentially redacts\n",
    "    low numbers from each column until count of redcted values >=n.\n",
    "    \n",
    "    df: input df\n",
    "    n: threshold for low number suppression\n",
    "    counts_columns: list of columns in df that contain counts to be suppressed.\n",
    "    \"\"\"\n",
    "    \n",
    "    for column in counts_columns:\n",
    "        series = df[column]\n",
    "        \n",
    "         \n",
    "        count = min(series)\n",
    "        \n",
    "        while count <n:\n",
    "            min_index = np.argmin(series)\n",
    "\n",
    "            count+= series[min_index]\n",
    "            series.iloc[min_index] = np.nan\n",
    "            \n",
    "    return df       \n",
    "        \n",
    "        \n",
    "redact_small_numbers(df, 5, ['count'])"
   ]
  },
  {
   "cell_type": "code",
   "execution_count": 30,
   "metadata": {},
   "outputs": [
    {
     "name": "stdout",
     "output_type": "stream",
     "text": [
      "   ethnicity  count\n",
      "0          1   20.0\n",
      "1          2    NaN\n",
      "2          3    NaN\n",
      "3          4   15.0\n"
     ]
    }
   ],
   "source": [
    "print(df)"
   ]
  },
  {
   "cell_type": "code",
   "execution_count": null,
   "metadata": {},
   "outputs": [],
   "source": []
  }
 ],
 "metadata": {
  "kernelspec": {
   "display_name": "Python 3",
   "language": "python",
   "name": "python3"
  },
  "language_info": {
   "codemirror_mode": {
    "name": "ipython",
    "version": 3
   },
   "file_extension": ".py",
   "mimetype": "text/x-python",
   "name": "python",
   "nbconvert_exporter": "python",
   "pygments_lexer": "ipython3",
   "version": "3.9.2"
  }
 },
 "nbformat": 4,
 "nbformat_minor": 4
}
