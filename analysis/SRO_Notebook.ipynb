{
 "cells": [
  {
   "cell_type": "code",
   "execution_count": null,
   "metadata": {},
   "outputs": [],
   "source": [
    "import sys\n",
    "import pandas as pd\n",
    "import numpy as np\n",
    "import matplotlib.pyplot as plt\n",
    "from pandas.plotting import register_matplotlib_converters\n",
    "register_matplotlib_converters()\n",
    "from IPython.display import HTML\n",
    "from IPython.display import Markdown as md\n",
    "from IPython.core.display import HTML as Center\n",
    "from utilities import *\n",
    "from config import marker, start_date, end_date, demographics\n",
    "\n",
    "\n",
    "%matplotlib inline\n",
    "\n",
    "\n",
    "Center('''<style>\n",
    ".output_png {\n",
    "    display: table-cell;\n",
    "    text-align: center;\n",
    "    vertical-align: middle;\n",
    "}\n",
    "</style>''')\n",
    "\n",
    "class Measure:\n",
    "  def __init__(self, id, numerator, denominator, group_by):\n",
    "    self.id = id\n",
    "    self.numerator = numerator\n",
    "    self.denominator = denominator\n",
    "    self.group_by = group_by\n",
    "    \n",
    "measures = [\n",
    "\n",
    "    Measure(\n",
    "        id=\"total\",\n",
    "        numerator=\"event\",\n",
    "        denominator=\"population\",\n",
    "        group_by=[\"age_band\"]\n",
    "    ),\n",
    "\n",
    "    Measure(\n",
    "        id=\"event_code\",\n",
    "        numerator=\"event\",\n",
    "        denominator=\"population\",\n",
    "        group_by=[\"age_band\",\"event_code\"]\n",
    "    ),\n",
    "\n",
    "    Measure(\n",
    "        id=\"practice\",\n",
    "        numerator=\"event\",\n",
    "        denominator=\"population\",\n",
    "        group_by=[\"age_band\",\"practice\"]\n",
    "    ),\n",
    "\n",
    "\n",
    "]\n",
    "\n",
    "for d in demographics:\n",
    "    m = Measure(\n",
    "        id=d,\n",
    "        numerator=\"event\",\n",
    "        denominator=\"population\",\n",
    "        group_by=[\"age_band\", \"region\"]\n",
    "    )\n",
    "    measures.append(m)\n",
    "\n",
    "default_measures = ['total', 'event_code', 'practice']\n",
    "measures_ids = default_measures+ demographics\n",
    "measures_dict = {}\n",
    "\n",
    "for m in measures:\n",
    "    measures_dict[m.id] = m\n",
    "\n"
   ]
  },
  {
   "cell_type": "code",
   "execution_count": null,
   "metadata": {},
   "outputs": [],
   "source": [
    "display(\n",
    "md(\"# Service Restoration Observatory\"),\n",
    "md(f\"## Changes in {marker} between {start_date} and {end_date}\"),\n",
    "md(f\"Below are various time-series graphs showing changes in {marker} code use.\"),\n",
    ")\n"
   ]
  },
  {
   "cell_type": "code",
   "execution_count": null,
   "metadata": {},
   "outputs": [],
   "source": [
    "display(\n",
    "md(\"### Methods\"),\n",
    "md(f\"Using OpenSAFELY-TPP, covering 40% of England's population, we have assessed coding activity related to {marker} between {start_date} and {end_date}. The codelist used can be found here at [OpenSAFELY Codelists](https://codelists.opensafely.org/).  For each month within the study period, we have calculated the rate at which the code was recorded per 1000 registered patients.\"),\n",
    "md(f\"All analytical code and output is available for inspection at the [OpenSAFELY GitHub repository](https://github.com/opensafely\")\n",
    ")\n"
   ]
  },
  {
   "cell_type": "code",
   "execution_count": null,
   "metadata": {},
   "outputs": [],
   "source": [
    "default_measures = ['total', 'event_code', 'practice']\n",
    "measures = default_measures+ demographics\n",
    "\n",
    "data_dict = {}\n",
    "\n",
    "for key, value in measures_dict.items():\n",
    "    \n",
    "    df = pd.read_csv(f'../output/measure_{value.id}.csv')\n",
    "    if key == \"event_code\":\n",
    "        df.round(16)\n",
    "    \n",
    "    to_datetime_sort(df)\n",
    "    \n",
    "    data_dict[value.id] = calculate_rate(df, m=value, rate_per=1000)\n",
    "\n",
    "\n",
    "\n",
    "\n",
    "codelist = pd.read_csv('../codelists/opensafely-structured-medication-review-nhs-england.csv')\n",
    "codelist = codelist.round(16)\n"
   ]
  },
  {
   "cell_type": "code",
   "execution_count": null,
   "metadata": {},
   "outputs": [],
   "source": [
    "display(\n",
    "md(f\"## Total {marker} Number\")\n",
    ")\n"
   ]
  },
  {
   "cell_type": "code",
   "execution_count": null,
   "metadata": {},
   "outputs": [],
   "source": [
    "plot_measures(data_dict['total'], title=f\"Total {marker} across whole population\", column_to_plot='rate', category=False, y_label='Rate per 1000')\n"
   ]
  },
  {
   "cell_type": "code",
   "execution_count": null,
   "metadata": {},
   "outputs": [],
   "source": [
    "display(\n",
    "md(\"### Sub totals by sub codes\"),\n",
    "md(\"Events for the top 5 subcodes across the study period\"))\n",
    "child_table = create_child_table(df=data_dict['event_code'], code_df=codelist, code_column='code', term_column='term')\n",
    "child_table\n",
    "    "
   ]
  },
  {
   "cell_type": "code",
   "execution_count": null,
   "metadata": {},
   "outputs": [],
   "source": [
    "display(\n",
    "md(\"## Total Number by GP Practice\")\n",
    ")\n"
   ]
  },
  {
   "cell_type": "code",
   "execution_count": null,
   "metadata": {},
   "outputs": [],
   "source": [
    "practice_df = pd.read_csv('../output/input_practice_count.csv')\n",
    "practices_dict =calculate_statistics_practices(data_dict['practice'], practice_df,end_date)\n",
    "print(f'Practices included entire period: {practices_dict[\"total\"][\"number\"]} ({practices_dict[\"total\"][\"percent\"]}%)')\n",
    "print(f'Practices included within last year: {practices_dict[\"year\"][\"number\"]} ({practices_dict[\"year\"][\"percent\"]}%)')\n",
    "print(f'Practices included within last 3 months: {practices_dict[\"months_3\"][\"number\"]} ({practices_dict[\"months_3\"][\"percent\"]}%)')\n",
    "interactive_deciles_chart(data_dict['practice'], period_column='date', column='event', title='Decile chart',ylabel='rate per 1000')\n"
   ]
  },
  {
   "cell_type": "code",
   "execution_count": null,
   "metadata": {},
   "outputs": [],
   "source": [
    "    display(\n",
    "    md(f\"## Breakdown by {d}\")\n",
    "    )\n",
    "    counts_df = calculate_statistics_demographics(df=data_dict[d], demographic_var=d, end_date=end_date, event_column='event')\n",
    "    counts_df\n",
    "    "
   ]
  },
  {
   "cell_type": "code",
   "execution_count": null,
   "metadata": {},
   "outputs": [],
   "source": [
    "    plot_measures(data_dict[d], title=f'Breakdown by {d}', column_to_plot='rate_standardised', category='region', y_label='Standardised Rate per 1000')\n",
    "    "
   ]
  },
  {
   "cell_type": "code",
   "execution_count": null,
   "metadata": {},
   "outputs": [],
   "source": [
    "    display(\n",
    "    md(f\"## Breakdown by {d}\")\n",
    "    )\n",
    "    counts_df = calculate_statistics_demographics(df=data_dict[d], demographic_var=d, end_date=end_date, event_column='event')\n",
    "    counts_df\n",
    "    "
   ]
  },
  {
   "cell_type": "code",
   "execution_count": null,
   "metadata": {},
   "outputs": [],
   "source": [
    "    plot_measures(data_dict[d], title=f'Breakdown by {d}', column_to_plot='rate_standardised', category='region', y_label='Standardised Rate per 1000')\n",
    "    "
   ]
  },
  {
   "cell_type": "code",
   "execution_count": null,
   "metadata": {},
   "outputs": [],
   "source": [
    "    display(\n",
    "    md(f\"## Breakdown by {d}\")\n",
    "    )\n",
    "    counts_df = calculate_statistics_demographics(df=data_dict[d], demographic_var=d, end_date=end_date, event_column='event')\n",
    "    counts_df\n",
    "    "
   ]
  },
  {
   "cell_type": "code",
   "execution_count": null,
   "metadata": {},
   "outputs": [],
   "source": [
    "    plot_measures(data_dict[d], title=f'Breakdown by {d}', column_to_plot='rate_standardised', category='region', y_label='Standardised Rate per 1000')\n",
    "    "
   ]
  }
 ],
 "metadata": {},
 "nbformat": 4,
 "nbformat_minor": 4
}
