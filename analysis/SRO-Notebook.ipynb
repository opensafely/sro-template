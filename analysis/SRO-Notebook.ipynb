{
 "cells": [
  {
   "cell_type": "markdown",
   "id": "quiet-department",
   "metadata": {},
   "source": [
    "# Service Restoration Observatory\n",
    "\n",
    "# Changes occuring in the provision of {measure}: {Start date} - {end date}\n",
    "\n",
    "Below are various time-series graphs showing changes in total nationwide {measure} provision as well as a breakdown by region and other demographic variables.  The following graphs are available:\n",
    "\n",
    "* [Total {measure} number](#total)\n",
    "    * [Total {measure} number by child codes](#child-codes)\n",
    "* [Total {measure} number by practice](#practice)\n",
    "* [Breakdown by region](#region)\n",
    "* [Breakdown by age band](#age)\n",
    "* [Breakdown by sex](#sex)\n",
    "\n",
    "\n",
    "#### Methods\n",
    "Using OpenSAFELY-TPP, covering 40% of England's population, we have assessed coding activity related to {measure} in general practice from the beginning of {start date} until the end of {end date}. The codelist used can be found here at [OpenSAFELY Codelists](link to codelist).  For each month within the study period, we have calculated the rate at which the code was recorded per 1000 registered patients.\n",
    "\n",
    "All analytical code and output is available for inspection at the [OpenSAFELY GitHub repository](link to repo)."
   ]
  },
  {
   "cell_type": "code",
   "execution_count": 8,
   "id": "tribal-desire",
   "metadata": {},
   "outputs": [
    {
     "data": {
      "text/html": [
       " <style>\n",
       ".output_png {\n",
       "    display: table-cell;\n",
       "    text-align: center;\n",
       "    vertical-align: middle;\n",
       "}\n",
       "</style> "
      ],
      "text/plain": [
       "<IPython.core.display.HTML object>"
      ]
     },
     "execution_count": 8,
     "metadata": {},
     "output_type": "execute_result"
    }
   ],
   "source": [
    "import sys\n",
    "import pandas as pd\n",
    "import numpy as np\n",
    "import matplotlib.pyplot as plt\n",
    "from pandas.plotting import register_matplotlib_converters\n",
    "register_matplotlib_converters()\n",
    "from IPython.display import HTML\n",
    "from IPython.core.display import HTML as Center\n",
    "from utilities import *\n",
    "\n",
    "%matplotlib inline\n",
    "\n",
    "Center(\"\"\" <style>\n",
    ".output_png {\n",
    "    display: table-cell;\n",
    "    text-align: center;\n",
    "    vertical-align: middle;\n",
    "}\n",
    "</style> \"\"\")"
   ]
  },
  {
   "cell_type": "code",
   "execution_count": 13,
   "id": "instructional-installation",
   "metadata": {},
   "outputs": [
    {
     "ename": "KeyError",
     "evalue": "'sex'",
     "output_type": "error",
     "traceback": [
      "\u001b[0;31m-------------------------------------\u001b[0m",
      "\u001b[0;31mKeyError\u001b[0mTraceback (most recent call last)",
      "\u001b[0;32m<ipython-input-13-9f27f019fec8>\u001b[0m in \u001b[0;36m<module>\u001b[0;34m\u001b[0m\n\u001b[1;32m     93\u001b[0m \u001b[0mmeasures_df_practice\u001b[0m \u001b[0;34m=\u001b[0m \u001b[0mcalculate_rate\u001b[0m\u001b[0;34m(\u001b[0m\u001b[0mmeasures_df_practice\u001b[0m\u001b[0;34m,\u001b[0m \u001b[0mm\u001b[0m\u001b[0;34m=\u001b[0m\u001b[0mmeasures\u001b[0m\u001b[0;34m[\u001b[0m\u001b[0;36m2\u001b[0m\u001b[0;34m]\u001b[0m\u001b[0;34m,\u001b[0m \u001b[0mrate_per\u001b[0m\u001b[0;34m=\u001b[0m\u001b[0;36m1000\u001b[0m\u001b[0;34m)\u001b[0m\u001b[0;34m\u001b[0m\u001b[0;34m\u001b[0m\u001b[0m\n\u001b[1;32m     94\u001b[0m \u001b[0mmeasures_df_by_region\u001b[0m \u001b[0;34m=\u001b[0m \u001b[0mcalculate_rate\u001b[0m\u001b[0;34m(\u001b[0m\u001b[0mmeasures_df_by_region\u001b[0m\u001b[0;34m,\u001b[0m \u001b[0mm\u001b[0m\u001b[0;34m=\u001b[0m\u001b[0mmeasures\u001b[0m\u001b[0;34m[\u001b[0m\u001b[0;36m3\u001b[0m\u001b[0;34m]\u001b[0m\u001b[0;34m,\u001b[0m \u001b[0mrate_per\u001b[0m\u001b[0;34m=\u001b[0m\u001b[0;36m1000\u001b[0m\u001b[0;34m)\u001b[0m\u001b[0;34m\u001b[0m\u001b[0;34m\u001b[0m\u001b[0m\n\u001b[0;32m---> 95\u001b[0;31m \u001b[0mmeasures_df_by_sex\u001b[0m \u001b[0;34m=\u001b[0m \u001b[0mcalculate_rate\u001b[0m\u001b[0;34m(\u001b[0m\u001b[0mmeasures_df_by_sex\u001b[0m\u001b[0;34m,\u001b[0m \u001b[0mm\u001b[0m\u001b[0;34m=\u001b[0m\u001b[0mmeasures\u001b[0m\u001b[0;34m[\u001b[0m\u001b[0;36m4\u001b[0m\u001b[0;34m]\u001b[0m\u001b[0;34m,\u001b[0m \u001b[0mrate_per\u001b[0m\u001b[0;34m=\u001b[0m\u001b[0;36m1000\u001b[0m\u001b[0;34m)\u001b[0m\u001b[0;34m\u001b[0m\u001b[0;34m\u001b[0m\u001b[0m\n\u001b[0m\u001b[1;32m     96\u001b[0m \u001b[0;34m\u001b[0m\u001b[0m\n",
      "\u001b[0;32m~/Documents/DataLab/sro-template/analysis/utilities.py\u001b[0m in \u001b[0;36mcalculate_rate\u001b[0;34m(df, m, rate_per, standardise, age_group_column, return_age)\u001b[0m\n\u001b[1;32m     84\u001b[0m         \u001b[0;32melse\u001b[0m\u001b[0;34m:\u001b[0m\u001b[0;34m\u001b[0m\u001b[0;34m\u001b[0m\u001b[0m\n\u001b[1;32m     85\u001b[0m \u001b[0;34m\u001b[0m\u001b[0m\n\u001b[0;32m---> 86\u001b[0;31m             \u001b[0mdf_count\u001b[0m \u001b[0;34m=\u001b[0m \u001b[0mdf\u001b[0m\u001b[0;34m.\u001b[0m\u001b[0mgroupby\u001b[0m\u001b[0;34m(\u001b[0m\u001b[0mby\u001b[0m\u001b[0;34m=\u001b[0m\u001b[0;34m[\u001b[0m\u001b[0;34m\"date\"\u001b[0m\u001b[0;34m]\u001b[0m\u001b[0;34m+\u001b[0m \u001b[0;34m(\u001b[0m\u001b[0;32mlambda\u001b[0m \u001b[0mx\u001b[0m\u001b[0;34m:\u001b[0m \u001b[0mx\u001b[0m\u001b[0;34m[\u001b[0m\u001b[0;36m1\u001b[0m\u001b[0;34m:\u001b[0m\u001b[0;34m]\u001b[0m \u001b[0;32mif\u001b[0m \u001b[0mlen\u001b[0m\u001b[0;34m(\u001b[0m\u001b[0mx\u001b[0m\u001b[0;34m)\u001b[0m\u001b[0;34m>\u001b[0m\u001b[0;36m1\u001b[0m \u001b[0;32melse\u001b[0m \u001b[0;34m[\u001b[0m\u001b[0;34m]\u001b[0m\u001b[0;34m)\u001b[0m\u001b[0;34m(\u001b[0m\u001b[0mm\u001b[0m\u001b[0;34m.\u001b[0m\u001b[0mgroup_by\u001b[0m\u001b[0;34m)\u001b[0m\u001b[0;34m)\u001b[0m\u001b[0;34m[\u001b[0m\u001b[0;34m[\u001b[0m\u001b[0mm\u001b[0m\u001b[0;34m.\u001b[0m\u001b[0mnumerator\u001b[0m\u001b[0;34m,\u001b[0m \u001b[0mm\u001b[0m\u001b[0;34m.\u001b[0m\u001b[0mdenominator\u001b[0m\u001b[0;34m]\u001b[0m\u001b[0;34m]\u001b[0m\u001b[0;34m.\u001b[0m\u001b[0msum\u001b[0m\u001b[0;34m(\u001b[0m\u001b[0;34m)\u001b[0m\u001b[0;34m.\u001b[0m\u001b[0mreset_index\u001b[0m\u001b[0;34m(\u001b[0m\u001b[0;34m)\u001b[0m\u001b[0;34m\u001b[0m\u001b[0;34m\u001b[0m\u001b[0m\n\u001b[0m\u001b[1;32m     87\u001b[0m \u001b[0;34m\u001b[0m\u001b[0m\n\u001b[1;32m     88\u001b[0m \u001b[0;34m\u001b[0m\u001b[0m\n",
      "\u001b[0;32m/usr/local/lib/python3.9/site-packages/pandas/core/frame.py\u001b[0m in \u001b[0;36mgroupby\u001b[0;34m(self, by, axis, level, as_index, sort, group_keys, squeeze, observed, dropna)\u001b[0m\n\u001b[1;32m   6712\u001b[0m         \u001b[0maxis\u001b[0m \u001b[0;34m=\u001b[0m \u001b[0mself\u001b[0m\u001b[0;34m.\u001b[0m\u001b[0m_get_axis_number\u001b[0m\u001b[0;34m(\u001b[0m\u001b[0maxis\u001b[0m\u001b[0;34m)\u001b[0m\u001b[0;34m\u001b[0m\u001b[0;34m\u001b[0m\u001b[0m\n\u001b[1;32m   6713\u001b[0m \u001b[0;34m\u001b[0m\u001b[0m\n\u001b[0;32m-> 6714\u001b[0;31m         return DataFrameGroupBy(\n\u001b[0m\u001b[1;32m   6715\u001b[0m             \u001b[0mobj\u001b[0m\u001b[0;34m=\u001b[0m\u001b[0mself\u001b[0m\u001b[0;34m,\u001b[0m\u001b[0;34m\u001b[0m\u001b[0;34m\u001b[0m\u001b[0m\n\u001b[1;32m   6716\u001b[0m             \u001b[0mkeys\u001b[0m\u001b[0;34m=\u001b[0m\u001b[0mby\u001b[0m\u001b[0;34m,\u001b[0m\u001b[0;34m\u001b[0m\u001b[0;34m\u001b[0m\u001b[0m\n",
      "\u001b[0;32m/usr/local/lib/python3.9/site-packages/pandas/core/groupby/groupby.py\u001b[0m in \u001b[0;36m__init__\u001b[0;34m(self, obj, keys, axis, level, grouper, exclusions, selection, as_index, sort, group_keys, squeeze, observed, mutated, dropna)\u001b[0m\n\u001b[1;32m    558\u001b[0m             \u001b[0;32mfrom\u001b[0m \u001b[0mpandas\u001b[0m\u001b[0;34m.\u001b[0m\u001b[0mcore\u001b[0m\u001b[0;34m.\u001b[0m\u001b[0mgroupby\u001b[0m\u001b[0;34m.\u001b[0m\u001b[0mgrouper\u001b[0m \u001b[0;32mimport\u001b[0m \u001b[0mget_grouper\u001b[0m\u001b[0;34m\u001b[0m\u001b[0;34m\u001b[0m\u001b[0m\n\u001b[1;32m    559\u001b[0m \u001b[0;34m\u001b[0m\u001b[0m\n\u001b[0;32m--> 560\u001b[0;31m             grouper, exclusions, obj = get_grouper(\n\u001b[0m\u001b[1;32m    561\u001b[0m                 \u001b[0mobj\u001b[0m\u001b[0;34m,\u001b[0m\u001b[0;34m\u001b[0m\u001b[0;34m\u001b[0m\u001b[0m\n\u001b[1;32m    562\u001b[0m                 \u001b[0mkeys\u001b[0m\u001b[0;34m,\u001b[0m\u001b[0;34m\u001b[0m\u001b[0;34m\u001b[0m\u001b[0m\n",
      "\u001b[0;32m/usr/local/lib/python3.9/site-packages/pandas/core/groupby/grouper.py\u001b[0m in \u001b[0;36mget_grouper\u001b[0;34m(obj, key, axis, level, sort, observed, mutated, validate, dropna)\u001b[0m\n\u001b[1;32m    809\u001b[0m                 \u001b[0min_axis\u001b[0m\u001b[0;34m,\u001b[0m \u001b[0mname\u001b[0m\u001b[0;34m,\u001b[0m \u001b[0mlevel\u001b[0m\u001b[0;34m,\u001b[0m \u001b[0mgpr\u001b[0m \u001b[0;34m=\u001b[0m \u001b[0;32mFalse\u001b[0m\u001b[0;34m,\u001b[0m \u001b[0;32mNone\u001b[0m\u001b[0;34m,\u001b[0m \u001b[0mgpr\u001b[0m\u001b[0;34m,\u001b[0m \u001b[0;32mNone\u001b[0m\u001b[0;34m\u001b[0m\u001b[0;34m\u001b[0m\u001b[0m\n\u001b[1;32m    810\u001b[0m             \u001b[0;32melse\u001b[0m\u001b[0;34m:\u001b[0m\u001b[0;34m\u001b[0m\u001b[0;34m\u001b[0m\u001b[0m\n\u001b[0;32m--> 811\u001b[0;31m                 \u001b[0;32mraise\u001b[0m \u001b[0mKeyError\u001b[0m\u001b[0;34m(\u001b[0m\u001b[0mgpr\u001b[0m\u001b[0;34m)\u001b[0m\u001b[0;34m\u001b[0m\u001b[0;34m\u001b[0m\u001b[0m\n\u001b[0m\u001b[1;32m    812\u001b[0m         \u001b[0;32melif\u001b[0m \u001b[0misinstance\u001b[0m\u001b[0;34m(\u001b[0m\u001b[0mgpr\u001b[0m\u001b[0;34m,\u001b[0m \u001b[0mGrouper\u001b[0m\u001b[0;34m)\u001b[0m \u001b[0;32mand\u001b[0m \u001b[0mgpr\u001b[0m\u001b[0;34m.\u001b[0m\u001b[0mkey\u001b[0m \u001b[0;32mis\u001b[0m \u001b[0;32mnot\u001b[0m \u001b[0;32mNone\u001b[0m\u001b[0;34m:\u001b[0m\u001b[0;34m\u001b[0m\u001b[0;34m\u001b[0m\u001b[0m\n\u001b[1;32m    813\u001b[0m             \u001b[0;31m# Add key to exclusions\u001b[0m\u001b[0;34m\u001b[0m\u001b[0;34m\u001b[0m\u001b[0;34m\u001b[0m\u001b[0m\n",
      "\u001b[0;31mKeyError\u001b[0m: 'sex'"
     ]
    }
   ],
   "source": [
    "# Load measures df\n",
    "measures_df_total = pd.read_csv('../output/measure_total.csv')\n",
    "measures_df_event_code = pd.read_csv('../output/measure_event_code.csv')\n",
    "measures_df_practice = pd.read_csv('../output/measure_practice.csv')\n",
    "measures_df_by_region = pd.read_csv('../output/measure_region.csv')\n",
    "\n",
    "measures_df_by_sex = pd.read_csv('../output/measure_sex.csv')\n",
    "\n",
    "codelist = pd.read_csv('../codelists/opensafely-structured-medication-review-nhs-england.csv')\n",
    "codelist.round(16)\n",
    "measures_df_event_code.round(16)\n",
    "\n",
    "\n",
    "\n",
    "\n",
    "\n",
    "# Get measures\n",
    "\n",
    "class Measure:\n",
    "  def __init__(self, id, numerator, denominator, group_by):\n",
    "    self.id = id\n",
    "    self.numerator = numerator\n",
    "    self.denominator = denominator\n",
    "    self.group_by = group_by\n",
    "    \n",
    "    \n",
    "measures = [\n",
    "   \n",
    "\n",
    "    Measure(\n",
    "        id=\"total\",\n",
    "        numerator=\"event\",\n",
    "        denominator=\"population\",\n",
    "        group_by=[\"age_band\"]\n",
    "    ),\n",
    "\n",
    "    Measure(\n",
    "        id=\"event_code\",\n",
    "        numerator=\"event\",\n",
    "        denominator=\"population\",\n",
    "        group_by=[\"age_band\",\"event_code\"]\n",
    "    ),\n",
    "\n",
    "    Measure(\n",
    "        id=\"practice\",\n",
    "        numerator=\"event\",\n",
    "        denominator=\"population\",\n",
    "        group_by=[\"age_band\",\"practice\"]\n",
    "    ),\n",
    "\n",
    "    Measure(\n",
    "        id=\"region\",\n",
    "        numerator=\"event\",\n",
    "        denominator=\"population\",\n",
    "        group_by=[\"age_band\",\"region\"],\n",
    "    ),\n",
    "\n",
    "    Measure(\n",
    "        id=\"sex\",\n",
    "        numerator=\"event\",\n",
    "        denominator=\"population\",\n",
    "        group_by=[\"age_band\",\"sex\"],\n",
    "    ),\n",
    "\n",
    "    Measure(\n",
    "        id=\"age_band\",\n",
    "        numerator=\"event\",\n",
    "        denominator=\"population\",\n",
    "        group_by=[\"age_band\"],\n",
    "    ),\n",
    "\n",
    "\n",
    "    \n",
    "]\n",
    "\n",
    "\n",
    "# Convert date column to datetime and sort by date\n",
    "to_datetime_sort(measures_df_total)\n",
    "to_datetime_sort(measures_df_event_code)\n",
    "to_datetime_sort(measures_df_practice)\n",
    "to_datetime_sort(measures_df_by_region)\n",
    "\n",
    "to_datetime_sort(measures_df_by_sex)\n",
    "\n",
    "\n",
    "# Redact small numbers from measures df\n",
    "# redact_small_numbers(measures_df_total, 5, measures[0])\n",
    "\n",
    "# Calculate rates\n",
    "\n",
    "measures_df_total = calculate_rate(measures_df_total, m=measures[0], rate_per=1000)\n",
    "measures_df_event_code = calculate_rate(measures_df_event_code, m=measures[1], rate_per=1000)\n",
    "measures_df_practice = calculate_rate(measures_df_practice, m=measures[2], rate_per=1000)\n",
    "measures_df_by_region = calculate_rate(measures_df_by_region, m=measures[3], rate_per=1000)\n",
    "measures_df_by_sex = calculate_rate(measures_df_by_sex, m=measures[4], rate_per=1000)\n",
    "\n"
   ]
  },
  {
   "cell_type": "markdown",
   "id": "popular-imagination",
   "metadata": {},
   "source": [
    "<a id='total'></a>\n",
    "## Total {measure} Number"
   ]
  },
  {
   "cell_type": "code",
   "execution_count": 4,
   "id": "every-assets",
   "metadata": {},
   "outputs": [
    {
     "ename": "NameError",
     "evalue": "name 'measures_df_total' is not defined",
     "output_type": "error",
     "traceback": [
      "\u001b[0;31m-------------------------------------\u001b[0m",
      "\u001b[0;31mNameError\u001b[0mTraceback (most recent call last)",
      "\u001b[0;32m<ipython-input-4-614686ab8bcf>\u001b[0m in \u001b[0;36m<module>\u001b[0;34m\u001b[0m\n\u001b[0;32m----> 1\u001b[0;31m \u001b[0mplot_measures\u001b[0m\u001b[0;34m(\u001b[0m\u001b[0mmeasures_df_total\u001b[0m\u001b[0;34m,\u001b[0m \u001b[0mtitle\u001b[0m\u001b[0;34m=\u001b[0m\u001b[0;34m'Total {Measure} across whole population'\u001b[0m\u001b[0;34m,\u001b[0m \u001b[0mmeasure_id\u001b[0m\u001b[0;34m=\u001b[0m\u001b[0;34m'measure_1'\u001b[0m\u001b[0;34m,\u001b[0m \u001b[0mcolumn_to_plot\u001b[0m\u001b[0;34m=\u001b[0m\u001b[0;34m'rate'\u001b[0m\u001b[0;34m,\u001b[0m \u001b[0mcategory\u001b[0m\u001b[0;34m=\u001b[0m\u001b[0;32mFalse\u001b[0m\u001b[0;34m,\u001b[0m \u001b[0my_label\u001b[0m\u001b[0;34m=\u001b[0m\u001b[0;34m'Rate per 1000'\u001b[0m\u001b[0;34m)\u001b[0m\u001b[0;34m\u001b[0m\u001b[0;34m\u001b[0m\u001b[0m\n\u001b[0m",
      "\u001b[0;31mNameError\u001b[0m: name 'measures_df_total' is not defined"
     ]
    }
   ],
   "source": [
    "plot_measures(measures_df_total, title='Total {Measure} across whole population', measure_id='measure_1', column_to_plot='rate', category=False, y_label='Rate per 1000')"
   ]
  },
  {
   "cell_type": "markdown",
   "id": "ceramic-contemporary",
   "metadata": {},
   "source": [
    "<a id='child-codes'></a>\n",
    "### Sub totals by child codes\n",
    "\n",
    "Events for the top x subcodes across the study period"
   ]
  },
  {
   "cell_type": "code",
   "execution_count": 5,
   "id": "flush-nickel",
   "metadata": {},
   "outputs": [
    {
     "ename": "NameError",
     "evalue": "name 'measures_df_event_code' is not defined",
     "output_type": "error",
     "traceback": [
      "\u001b[0;31m-------------------------------------\u001b[0m",
      "\u001b[0;31mNameError\u001b[0mTraceback (most recent call last)",
      "\u001b[0;32m<ipython-input-5-451113639d34>\u001b[0m in \u001b[0;36m<module>\u001b[0;34m\u001b[0m\n\u001b[0;32m----> 1\u001b[0;31m \u001b[0mmeasures_df_event_code\u001b[0m\u001b[0;34m\u001b[0m\u001b[0;34m\u001b[0m\u001b[0m\n\u001b[0m",
      "\u001b[0;31mNameError\u001b[0m: name 'measures_df_event_code' is not defined"
     ]
    }
   ],
   "source": [
    "measures_df_event_code"
   ]
  },
  {
   "cell_type": "code",
   "execution_count": null,
   "id": "critical-developer",
   "metadata": {},
   "outputs": [],
   "source": [
    "child_table = create_child_table(df=measures_df_event_code, code_df=codelist, code_column='code', term_column='term', measure='event_x')\n",
    "child_table"
   ]
  },
  {
   "cell_type": "code",
   "execution_count": null,
   "id": "wicked-vulnerability",
   "metadata": {},
   "outputs": [],
   "source": [
    "measures_df_event_code"
   ]
  },
  {
   "cell_type": "code",
   "execution_count": null,
   "id": "engaging-british",
   "metadata": {},
   "outputs": [],
   "source": [
    "plot_measures(measures_df_event_code, title='Total {Measure} across whole populatio for top 5 child codes', measure_id='measure_1', column_to_plot='rate', category='event_x_event_code', y_label='Rate per 1000')"
   ]
  },
  {
   "cell_type": "markdown",
   "id": "protected-creator",
   "metadata": {},
   "source": [
    "<a id='practice'></a>\n",
    "## Total number by practice"
   ]
  },
  {
   "cell_type": "code",
   "execution_count": 14,
   "id": "unknown-hormone",
   "metadata": {},
   "outputs": [
    {
     "name": "stdout",
     "output_type": "stream",
     "text": [
      "Practices included entire period: 44 (118.92%)\n",
      "Practices included within last year: 44 (118.92%)\n",
      "Practices included within last 3 months: 44 (118.92%)\n"
     ]
    }
   ],
   "source": [
    "practice_df = pd.read_csv('../output/input_practice_count.csv')\n",
    "practices_dict =calculate_statistics_practices(measures_df_practice, practice_df,\"2020-02-01\")\n",
    "print(f'Practices included entire period: {practices_dict[\"total\"][\"number\"]} ({practices_dict[\"total\"][\"percent\"]}%)')\n",
    "print(f'Practices included within last year: {practices_dict[\"year\"][\"number\"]} ({practices_dict[\"year\"][\"percent\"]}%)')\n",
    "print(f'Practices included within last 3 months: {practices_dict[\"months_3\"][\"number\"]} ({practices_dict[\"months_3\"][\"percent\"]}%)')\n",
    "\n"
   ]
  },
  {
   "cell_type": "code",
   "execution_count": 15,
   "id": "objective-boating",
   "metadata": {},
   "outputs": [
    {
     "ename": "KeyError",
     "evalue": "'Column not found: event_x'",
     "output_type": "error",
     "traceback": [
      "\u001b[0;31m-------------------------------------\u001b[0m",
      "\u001b[0;31mKeyError\u001b[0mTraceback (most recent call last)",
      "\u001b[0;32m<ipython-input-15-dd1fc5fb7847>\u001b[0m in \u001b[0;36m<module>\u001b[0;34m\u001b[0m\n\u001b[0;32m----> 1\u001b[0;31m \u001b[0minteractive_deciles_chart\u001b[0m\u001b[0;34m(\u001b[0m\u001b[0mmeasures_df_practice\u001b[0m\u001b[0;34m,\u001b[0m \u001b[0mperiod_column\u001b[0m\u001b[0;34m=\u001b[0m\u001b[0;34m'date'\u001b[0m\u001b[0;34m,\u001b[0m \u001b[0mcolumn\u001b[0m\u001b[0;34m=\u001b[0m\u001b[0;34m'event_x'\u001b[0m\u001b[0;34m,\u001b[0m \u001b[0mtitle\u001b[0m\u001b[0;34m=\u001b[0m\u001b[0;34m'Decile chart'\u001b[0m\u001b[0;34m,\u001b[0m\u001b[0mylabel\u001b[0m\u001b[0;34m=\u001b[0m\u001b[0;34m'rate per 1000'\u001b[0m\u001b[0;34m)\u001b[0m\u001b[0;34m\u001b[0m\u001b[0;34m\u001b[0m\u001b[0m\n\u001b[0m",
      "\u001b[0;32m~/Documents/DataLab/sro-template/analysis/utilities.py\u001b[0m in \u001b[0;36minteractive_deciles_chart\u001b[0;34m(df, period_column, column, title, ylabel)\u001b[0m\n\u001b[1;32m    405\u001b[0m     \"\"\"period_column must be dates / datetimes\n\u001b[1;32m    406\u001b[0m     \"\"\"\n\u001b[0;32m--> 407\u001b[0;31m \u001b[0;34m\u001b[0m\u001b[0m\n\u001b[0m\u001b[1;32m    408\u001b[0m     df = add_percentiles(\n\u001b[1;32m    409\u001b[0m         \u001b[0mdf\u001b[0m\u001b[0;34m,\u001b[0m\u001b[0;34m\u001b[0m\u001b[0;34m\u001b[0m\u001b[0m\n",
      "\u001b[0;32m~/Documents/DataLab/sro-template/analysis/utilities.py\u001b[0m in \u001b[0;36madd_percentiles\u001b[0;34m(df, period_column, column, show_outer_percentiles)\u001b[0m\n\u001b[1;32m     22\u001b[0m     \u001b[0;32melse\u001b[0m\u001b[0;34m:\u001b[0m\u001b[0;34m\u001b[0m\u001b[0;34m\u001b[0m\u001b[0m\n\u001b[1;32m     23\u001b[0m         \u001b[0mquantiles\u001b[0m \u001b[0;34m=\u001b[0m \u001b[0mdeciles\u001b[0m\u001b[0;34m\u001b[0m\u001b[0;34m\u001b[0m\u001b[0m\n\u001b[0;32m---> 24\u001b[0;31m     \u001b[0mdf\u001b[0m \u001b[0;34m=\u001b[0m \u001b[0mdf\u001b[0m\u001b[0;34m.\u001b[0m\u001b[0mgroupby\u001b[0m\u001b[0;34m(\u001b[0m\u001b[0mperiod_column\u001b[0m\u001b[0;34m)\u001b[0m\u001b[0;34m[\u001b[0m\u001b[0mcolumn\u001b[0m\u001b[0;34m]\u001b[0m\u001b[0;34m.\u001b[0m\u001b[0mquantile\u001b[0m\u001b[0;34m(\u001b[0m\u001b[0mquantiles\u001b[0m\u001b[0;34m)\u001b[0m\u001b[0;34m.\u001b[0m\u001b[0mreset_index\u001b[0m\u001b[0;34m(\u001b[0m\u001b[0;34m)\u001b[0m\u001b[0;34m\u001b[0m\u001b[0;34m\u001b[0m\u001b[0m\n\u001b[0m\u001b[1;32m     25\u001b[0m     \u001b[0mdf\u001b[0m \u001b[0;34m=\u001b[0m \u001b[0mdf\u001b[0m\u001b[0;34m.\u001b[0m\u001b[0mrename\u001b[0m\u001b[0;34m(\u001b[0m\u001b[0mindex\u001b[0m\u001b[0;34m=\u001b[0m\u001b[0mstr\u001b[0m\u001b[0;34m,\u001b[0m \u001b[0mcolumns\u001b[0m\u001b[0;34m=\u001b[0m\u001b[0;34m{\u001b[0m\u001b[0;34m\"level_1\"\u001b[0m\u001b[0;34m:\u001b[0m \u001b[0;34m\"percentile\"\u001b[0m\u001b[0;34m}\u001b[0m\u001b[0;34m)\u001b[0m\u001b[0;34m\u001b[0m\u001b[0;34m\u001b[0m\u001b[0m\n\u001b[1;32m     26\u001b[0m     \u001b[0;31m# create integer range of percentiles\u001b[0m\u001b[0;34m\u001b[0m\u001b[0;34m\u001b[0m\u001b[0;34m\u001b[0m\u001b[0m\n",
      "\u001b[0;32m/usr/local/lib/python3.9/site-packages/pandas/core/groupby/generic.py\u001b[0m in \u001b[0;36m__getitem__\u001b[0;34m(self, key)\u001b[0m\n\u001b[1;32m   1540\u001b[0m                 \u001b[0mstacklevel\u001b[0m\u001b[0;34m=\u001b[0m\u001b[0;36m2\u001b[0m\u001b[0;34m,\u001b[0m\u001b[0;34m\u001b[0m\u001b[0;34m\u001b[0m\u001b[0m\n\u001b[1;32m   1541\u001b[0m             )\n\u001b[0;32m-> 1542\u001b[0;31m         \u001b[0;32mreturn\u001b[0m \u001b[0msuper\u001b[0m\u001b[0;34m(\u001b[0m\u001b[0;34m)\u001b[0m\u001b[0;34m.\u001b[0m\u001b[0m__getitem__\u001b[0m\u001b[0;34m(\u001b[0m\u001b[0mkey\u001b[0m\u001b[0;34m)\u001b[0m\u001b[0;34m\u001b[0m\u001b[0;34m\u001b[0m\u001b[0m\n\u001b[0m\u001b[1;32m   1543\u001b[0m \u001b[0;34m\u001b[0m\u001b[0m\n\u001b[1;32m   1544\u001b[0m     \u001b[0;32mdef\u001b[0m \u001b[0m_gotitem\u001b[0m\u001b[0;34m(\u001b[0m\u001b[0mself\u001b[0m\u001b[0;34m,\u001b[0m \u001b[0mkey\u001b[0m\u001b[0;34m,\u001b[0m \u001b[0mndim\u001b[0m\u001b[0;34m:\u001b[0m \u001b[0mint\u001b[0m\u001b[0;34m,\u001b[0m \u001b[0msubset\u001b[0m\u001b[0;34m=\u001b[0m\u001b[0;32mNone\u001b[0m\u001b[0;34m)\u001b[0m\u001b[0;34m:\u001b[0m\u001b[0;34m\u001b[0m\u001b[0;34m\u001b[0m\u001b[0m\n",
      "\u001b[0;32m/usr/local/lib/python3.9/site-packages/pandas/core/base.py\u001b[0m in \u001b[0;36m__getitem__\u001b[0;34m(self, key)\u001b[0m\n\u001b[1;32m    278\u001b[0m             \u001b[0;31m# error: \"SelectionMixin\" has no attribute \"obj\"  [attr-defined]\u001b[0m\u001b[0;34m\u001b[0m\u001b[0;34m\u001b[0m\u001b[0;34m\u001b[0m\u001b[0m\n\u001b[1;32m    279\u001b[0m             \u001b[0;32mif\u001b[0m \u001b[0mkey\u001b[0m \u001b[0;32mnot\u001b[0m \u001b[0;32min\u001b[0m \u001b[0mself\u001b[0m\u001b[0;34m.\u001b[0m\u001b[0mobj\u001b[0m\u001b[0;34m:\u001b[0m  \u001b[0;31m# type: ignore[attr-defined]\u001b[0m\u001b[0;34m\u001b[0m\u001b[0;34m\u001b[0m\u001b[0m\n\u001b[0;32m--> 280\u001b[0;31m                 \u001b[0;32mraise\u001b[0m \u001b[0mKeyError\u001b[0m\u001b[0;34m(\u001b[0m\u001b[0;34mf\"Column not found: {key}\"\u001b[0m\u001b[0;34m)\u001b[0m\u001b[0;34m\u001b[0m\u001b[0;34m\u001b[0m\u001b[0m\n\u001b[0m\u001b[1;32m    281\u001b[0m             \u001b[0;32mreturn\u001b[0m \u001b[0mself\u001b[0m\u001b[0;34m.\u001b[0m\u001b[0m_gotitem\u001b[0m\u001b[0;34m(\u001b[0m\u001b[0mkey\u001b[0m\u001b[0;34m,\u001b[0m \u001b[0mndim\u001b[0m\u001b[0;34m=\u001b[0m\u001b[0;36m1\u001b[0m\u001b[0;34m)\u001b[0m\u001b[0;34m\u001b[0m\u001b[0;34m\u001b[0m\u001b[0m\n\u001b[1;32m    282\u001b[0m \u001b[0;34m\u001b[0m\u001b[0m\n",
      "\u001b[0;31mKeyError\u001b[0m: 'Column not found: event_x'"
     ]
    }
   ],
   "source": [
    "interactive_deciles_chart(measures_df_practice, period_column='date', column='event_x', title='Decile chart',ylabel='rate per 1000')\n"
   ]
  },
  {
   "cell_type": "markdown",
   "id": "coordinated-objective",
   "metadata": {},
   "source": [
    "<a id=\"region\"></a>\n",
    "## Breakdown by Region\n",
    "\n",
    "Number of events within each group."
   ]
  },
  {
   "cell_type": "code",
   "execution_count": null,
   "id": "brief-studio",
   "metadata": {},
   "outputs": [],
   "source": [
    "measures_df_by_region['region'] = measures_df_by_region['region'].replace(np.nan, 'NA')\n",
    "counts_df = calculate_statistics_demographics(df=measures_df_by_region, demographic_var='region', end_date=\"2021-02-01\", event_column='event_x')\n",
    "counts_df"
   ]
  },
  {
   "cell_type": "code",
   "execution_count": null,
   "id": "employed-barrel",
   "metadata": {},
   "outputs": [],
   "source": [
    "plot_measures(measures_df_by_region, title='Breakdown by region',measure_id='measure_1', column_to_plot='rate', category='region', y_label='Rate per 1000')"
   ]
  },
  {
   "cell_type": "markdown",
   "id": "computational-pennsylvania",
   "metadata": {},
   "source": [
    "<a id=\"age\"></a>\n",
    "## Breakdown by Age\n",
    "\n",
    "Number of events within each group."
   ]
  },
  {
   "cell_type": "code",
   "execution_count": null,
   "id": "advisory-marker",
   "metadata": {},
   "outputs": [],
   "source": [
    "counts_df = calculate_statistics_demographics(df=measures_df_by_age, demographic_var='age_band', end_date=\"2021-02-01\", event_column='event_x')\n",
    "counts_df"
   ]
  },
  {
   "cell_type": "code",
   "execution_count": null,
   "id": "olive-carry",
   "metadata": {},
   "outputs": [],
   "source": [
    "plot_measures(measures_df_by_age, title='Breakdown by age',measure_id='measure_1', column_to_plot='rate', category='age_band', y_label='Rate per 1000')"
   ]
  },
  {
   "cell_type": "markdown",
   "id": "single-tutorial",
   "metadata": {},
   "source": [
    "<a id=\"sex\"></a>\n",
    "## Breakdown by Sex\n",
    "\n",
    "Number of events within each group."
   ]
  },
  {
   "cell_type": "code",
   "execution_count": null,
   "id": "artistic-ordinance",
   "metadata": {},
   "outputs": [],
   "source": [
    "counts_df = calculate_statistics_demographics(df=measures_df_by_sex, demographic_var='sex', end_date=\"2021-02-01\", event_column='event_x')\n",
    "counts_df"
   ]
  },
  {
   "cell_type": "code",
   "execution_count": null,
   "id": "complex-hearing",
   "metadata": {},
   "outputs": [],
   "source": [
    "plot_measures(measures_df_by_sex, title='Breakdown by sex',measure_id='measure_1', column_to_plot='rate', category='sex', y_label='Rate per 1000')"
   ]
  },
  {
   "cell_type": "code",
   "execution_count": null,
   "id": "completed-favor",
   "metadata": {},
   "outputs": [],
   "source": []
  },
  {
   "cell_type": "code",
   "execution_count": null,
   "id": "responsible-petite",
   "metadata": {},
   "outputs": [],
   "source": []
  }
 ],
 "metadata": {
  "kernelspec": {
   "display_name": "Python 3",
   "language": "python",
   "name": "python3"
  },
  "language_info": {
   "codemirror_mode": {
    "name": "ipython",
    "version": 3
   },
   "file_extension": ".py",
   "mimetype": "text/x-python",
   "name": "python",
   "nbconvert_exporter": "python",
   "pygments_lexer": "ipython3",
   "version": "3.9.2"
  }
 },
 "nbformat": 4,
 "nbformat_minor": 5
}
