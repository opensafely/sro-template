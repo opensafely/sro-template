{
 "cells": [
  {
   "cell_type": "markdown",
   "id": "quiet-department",
   "metadata": {},
   "source": [
    "# Service Restoration Observatory\n",
    "\n",
    "# Changes occuring in the provision of {measure}: {Start date} - {end date}\n",
    "\n",
    "Below are various time-series graphs showing changes in total nationwide {measure} provision as well as a breakdown by region and other demographic variables.  The following graphs are available:\n",
    "\n",
    "* [Total {measure} number](#total)\n",
    "    * [Total {measure} number by child codes](#child-codes)\n",
    "* [Total {measure} number by practice](#practice)\n",
    "* [Breakdown by region](#region)\n",
    "* [Breakdown by age band](#age)\n",
    "* [Breakdown by sex](#sex)\n",
    "\n",
    "\n",
    "#### Methods\n",
    "Using OpenSAFELY-TPP, covering 40% of England's population, we have assessed coding activity related to {measure} in general practice from the beginning of {start date} until the end of {end date}. The codelist used can be found here at [OpenSAFELY Codelists](link to codelist).  For each month within the study period, we have calculated the rate at which the code was recorded per 1000 registered patients.\n",
    "\n",
    "All analytical code and output is available for inspection at the [OpenSAFELY GitHub repository](link to repo)."
   ]
  },
  {
   "cell_type": "code",
   "execution_count": null,
   "id": "tribal-desire",
   "metadata": {},
   "outputs": [],
   "source": [
    "import sys\n",
    "import pandas as pd\n",
    "import numpy as np\n",
    "import matplotlib.pyplot as plt\n",
    "from pandas.plotting import register_matplotlib_converters\n",
    "register_matplotlib_converters()\n",
    "from IPython.display import HTML\n",
    "from IPython.core.display import HTML as Center\n",
    "from utilities import *\n",
    "\n",
    "%matplotlib inline\n",
    "\n",
    "Center(\"\"\" <style>\n",
    ".output_png {\n",
    "    display: table-cell;\n",
    "    text-align: center;\n",
    "    vertical-align: middle;\n",
    "}\n",
    "</style> \"\"\")"
   ]
  },
  {
   "cell_type": "code",
   "execution_count": null,
   "id": "instructional-installation",
   "metadata": {},
   "outputs": [],
   "source": [
    "# Load measures df\n",
    "measures_df_total = pd.read_csv('../output/measure_1_total.csv')\n",
    "measures_df_event_code = pd.read_csv('../output/measure_1_event_code.csv')\n",
    "measures_df_practice = pd.read_csv('../output/measure_1_practice_only.csv')\n",
    "measures_df_by_region = pd.read_csv('../output/measure_1_by_region.csv')\n",
    "measures_df_by_age = pd.read_csv('../output/measure_1_by_age_band.csv')\n",
    "measures_df_by_sex = pd.read_csv('../output/measure_1_by_sex.csv')\n",
    "\n",
    "codelist = pd.read_csv('../codelists/opensafely-structured-medication-review-nhs-england.csv')\n",
    "codelist.round(16)\n",
    "measures_df_event_code.round(16)\n",
    "\n",
    "# temporary fix for population not working in Measures\n",
    "measures_df_total = measures_df_total.groupby(\n",
    "    ['date'])['event_x', 'population'].sum().reset_index()\n",
    "measures_df_total['value'] = measures_df_total['event_x'] /measures_df_total['population']\n",
    "\n",
    "\n",
    "\n",
    "# Get measures\n",
    "\n",
    "class Measure:\n",
    "  def __init__(self, id, numerator, denominator, group_by):\n",
    "    self.id = id\n",
    "    self.numerator = numerator\n",
    "    self.denominator = denominator\n",
    "    self.group_by = group_by\n",
    "    \n",
    "    \n",
    "measures = [\n",
    "    Measure(\n",
    "        id=\"1_total\",\n",
    "        numerator=\"event_x\",\n",
    "        denominator=\"population\",\n",
    "        group_by=None\n",
    "    ),\n",
    "\n",
    "    Measure(\n",
    "        id=\"1_event_code\",\n",
    "        numerator=\"event_x\",\n",
    "        denominator=\"population\",\n",
    "        group_by=[\"practice\", \"event_x_event_code\"]\n",
    "    ),\n",
    "\n",
    "    Measure(\n",
    "        id=\"1_practice_only\",\n",
    "        numerator=\"event_x\",\n",
    "        denominator=\"population\",\n",
    "        group_by=[\"practice\"]\n",
    "    ),\n",
    "\n",
    "    \n",
    "]\n",
    "\n",
    "\n",
    "# Convert date column to datetime and sort by date\n",
    "to_datetime_sort(measures_df_total)\n",
    "to_datetime_sort(measures_df_event_code)\n",
    "to_datetime_sort(measures_df_practice)\n",
    "to_datetime_sort(measures_df_by_region)\n",
    "to_datetime_sort(measures_df_by_age)\n",
    "to_datetime_sort(measures_df_by_sex)\n",
    "\n",
    "\n",
    "# Redact small numbers from measures df\n",
    "# redact_small_numbers(measures_df_total, 5, measures[0])\n",
    "\n",
    "# Calculate rates\n",
    "\n",
    "calculate_rate(measures_df_total, value_col='event_x', population_col='population', rate_per=1000)\n",
    "calculate_rate(measures_df_event_code, value_col='event_x', population_col='population', rate_per=1000)\n",
    "calculate_rate(measures_df_practice, value_col='event_x', population_col='population', rate_per=1000)\n",
    "calculate_rate(measures_df_by_region, value_col='event_x', population_col='population', rate_per=1000)\n",
    "calculate_rate(measures_df_by_age, value_col='event_x', population_col='population', rate_per=1000)\n",
    "calculate_rate(measures_df_by_sex, value_col='event_x', population_col='population', rate_per=1000)\n"
   ]
  },
  {
   "cell_type": "markdown",
   "id": "popular-imagination",
   "metadata": {},
   "source": [
    "<a id='total'></a>\n",
    "## Total {measure} Number"
   ]
  },
  {
   "cell_type": "code",
   "execution_count": null,
   "id": "every-assets",
   "metadata": {},
   "outputs": [],
   "source": [
    "plot_measures(measures_df_total, title='Total {Measure} across whole population', measure_id='measure_1', column_to_plot='rate', category=False, y_label='Rate per 1000')"
   ]
  },
  {
   "cell_type": "markdown",
   "id": "ceramic-contemporary",
   "metadata": {},
   "source": [
    "<a id='child-codes'></a>\n",
    "### Sub totals by child codes\n",
    "\n",
    "Events for the top x subcodes across the study period"
   ]
  },
  {
   "cell_type": "code",
   "execution_count": null,
   "id": "critical-developer",
   "metadata": {},
   "outputs": [],
   "source": [
    "child_table = create_child_table(df=measures_df_event_code, code_df=codelist, code_column='code', term_column='term', measure='event_x')\n",
    "child_table"
   ]
  },
  {
   "cell_type": "code",
   "execution_count": null,
   "id": "engaging-british",
   "metadata": {},
   "outputs": [],
   "source": [
    "plot_measures(measures_df_event_code, title='Total {Measure} across whole populatio for top 5 child codes', measure_id='measure_1', column_to_plot='rate', category='event_x_event_code', y_label='Rate per 1000')"
   ]
  },
  {
   "cell_type": "markdown",
   "id": "protected-creator",
   "metadata": {},
   "source": [
    "<a id='practice'></a>\n",
    "## Total number by practice"
   ]
  },
  {
   "cell_type": "code",
   "execution_count": null,
   "id": "unknown-hormone",
   "metadata": {},
   "outputs": [],
   "source": [
    "practice_df = pd.read_csv('../output/input_practice_count.csv')\n",
    "practices_dict =calculate_statistics_practices(measures_df_practice, practice_df,\"2020-02-01\")\n",
    "print(f'Practices included entire period: {practices_dict[\"total\"][\"number\"]} ({practices_dict[\"total\"][\"percent\"]}%)')\n",
    "print(f'Practices included within last year: {practices_dict[\"year\"][\"number\"]} ({practices_dict[\"year\"][\"percent\"]}%)')\n",
    "print(f'Practices included within last 3 months: {practices_dict[\"months_3\"][\"number\"]} ({practices_dict[\"months_3\"][\"percent\"]}%)')\n",
    "\n"
   ]
  },
  {
   "cell_type": "code",
   "execution_count": null,
   "id": "objective-boating",
   "metadata": {},
   "outputs": [],
   "source": [
    "interactive_deciles_chart(measures_df_practice, period_column='date', column='event_x', title='Decile chart',ylabel='rate per 1000')"
   ]
  },
  {
   "cell_type": "markdown",
   "id": "coordinated-objective",
   "metadata": {},
   "source": [
    "<a id=\"region\"></a>\n",
    "## Breakdown by Region\n",
    "\n",
    "Number of events within each group."
   ]
  },
  {
   "cell_type": "code",
   "execution_count": null,
   "id": "brief-studio",
   "metadata": {},
   "outputs": [],
   "source": [
    "measures_df_by_region['region'] = measures_df_by_region['region'].replace(np.nan, 'NA')\n",
    "counts_df = calculate_statistics_demographics(df=measures_df_by_region, demographic_var='region', end_date=\"2021-02-01\", event_column='event_x')\n",
    "counts_df"
   ]
  },
  {
   "cell_type": "code",
   "execution_count": null,
   "id": "employed-barrel",
   "metadata": {},
   "outputs": [],
   "source": [
    "plot_measures(measures_df_by_region, title='Breakdown by region',measure_id='measure_1', column_to_plot='rate', category='region', y_label='Rate per 1000')"
   ]
  },
  {
   "cell_type": "markdown",
   "id": "computational-pennsylvania",
   "metadata": {},
   "source": [
    "<a id=\"age\"></a>\n",
    "## Breakdown by Age\n",
    "\n",
    "Number of events within each group."
   ]
  },
  {
   "cell_type": "code",
   "execution_count": null,
   "id": "advisory-marker",
   "metadata": {},
   "outputs": [],
   "source": [
    "counts_df = calculate_statistics_demographics(df=measures_df_by_age, demographic_var='age_band', end_date=\"2021-02-01\", event_column='event_x')\n",
    "counts_df"
   ]
  },
  {
   "cell_type": "code",
   "execution_count": null,
   "id": "olive-carry",
   "metadata": {},
   "outputs": [],
   "source": [
    "plot_measures(measures_df_by_age, title='Breakdown by age',measure_id='measure_1', column_to_plot='rate', category='age_band', y_label='Rate per 1000')"
   ]
  },
  {
   "cell_type": "markdown",
   "id": "single-tutorial",
   "metadata": {},
   "source": [
    "<a id=\"sex\"></a>\n",
    "## Breakdown by Sex\n",
    "\n",
    "Number of events within each group."
   ]
  },
  {
   "cell_type": "code",
   "execution_count": null,
   "id": "artistic-ordinance",
   "metadata": {},
   "outputs": [],
   "source": [
    "counts_df = calculate_statistics_demographics(df=measures_df_by_sex, demographic_var='sex', end_date=\"2021-02-01\", event_column='event_x')\n",
    "counts_df"
   ]
  },
  {
   "cell_type": "code",
   "execution_count": null,
   "id": "complex-hearing",
   "metadata": {},
   "outputs": [],
   "source": [
    "plot_measures(measures_df_by_sex, title='Breakdown by sex',measure_id='measure_1', column_to_plot='rate', category='sex', y_label='Rate per 1000')"
   ]
  }
 ],
 "metadata": {
  "kernelspec": {
   "display_name": "Python 3",
   "language": "python",
   "name": "python3"
  },
  "language_info": {
   "codemirror_mode": {
    "name": "ipython",
    "version": 3
   },
   "file_extension": ".py",
   "mimetype": "text/x-python",
   "name": "python",
   "nbconvert_exporter": "python",
   "pygments_lexer": "ipython3",
   "version": "3.9.1"
  }
 },
 "nbformat": 4,
 "nbformat_minor": 5
}
